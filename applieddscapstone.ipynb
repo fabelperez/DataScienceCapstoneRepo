{
 "cells": [
  {
   "cell_type": "markdown",
   "metadata": {},
   "source": [
    "# Data Science Capstone Project"
   ]
  },
  {
   "cell_type": "markdown",
   "metadata": {},
   "source": [
    "### This is the Shareable Jupyter Notebook for the Capstone project."
   ]
  },
  {
   "cell_type": "code",
   "execution_count": 1,
   "metadata": {},
   "outputs": [
    {
     "name": "stderr",
     "output_type": "stream",
     "text": [
      "/home/fperez/anaconda3/envs/py37/lib/python3.7/site-packages/IPython/core/interactiveshell.py:3051: DtypeWarning: Columns (33) have mixed types. Specify dtype option on import or set low_memory=False.\n",
      "  interactivity=interactivity, compiler=compiler, result=result)\n"
     ]
    }
   ],
   "source": [
    "import pandas as pd\n",
    "import numpy as np\n",
    "\n",
    "dc = pd.read_csv(r'Data-Collisions.csv')"
   ]
  },
  {
   "cell_type": "code",
   "execution_count": 14,
   "metadata": {},
   "outputs": [
    {
     "data": {
      "text/plain": [
       "158"
      ]
     },
     "execution_count": 14,
     "metadata": {},
     "output_type": "execute_result"
    }
   ],
   "source": [
    "(dc[\"ROADCOND\"].isnull()==True).sum()"
   ]
  },
  {
   "cell_type": "code",
   "execution_count": 15,
   "metadata": {},
   "outputs": [
    {
     "data": {
      "text/plain": [
       "<bound method NDFrame.describe of        SEVERITYCODE           X          Y  OBJECTID  INCKEY  COLDETKEY  \\\n",
       "0                 2 -122.323148  47.703140         1    1307       1307   \n",
       "1                 1 -122.347294  47.647172         2   52200      52200   \n",
       "2                 1 -122.334540  47.607871         3   26700      26700   \n",
       "3                 1 -122.334803  47.604803         4    1144       1144   \n",
       "4                 2 -122.306426  47.545739         5   17700      17700   \n",
       "...             ...         ...        ...       ...     ...        ...   \n",
       "71641             1 -122.376074  47.571573     78131   90815      90815   \n",
       "71642             2 -122.291051  47.624951     78132   93312      93312   \n",
       "71643             1 -122.325897  47.637505     78133   94730      94730   \n",
       "71644             1 -122.319456  47.614664     78134   93056      93056   \n",
       "71645             1 -122.379726  47.577438     78135   94299      94299   \n",
       "\n",
       "      REPORTNO   STATUS      ADDRTYPE   INTKEY  ... ROADCOND  \\\n",
       "0      3502005  Matched  Intersection  37475.0  ...      Wet   \n",
       "1      2607959  Matched         Block      NaN  ...      Wet   \n",
       "2      1482393  Matched         Block      NaN  ...      Dry   \n",
       "3      3503937  Matched         Block      NaN  ...      Dry   \n",
       "4      1807429  Matched  Intersection  34387.0  ...      Wet   \n",
       "...        ...      ...           ...      ...  ...      ...   \n",
       "71641  2826864  Matched         Block      NaN  ...      Wet   \n",
       "71642  2899312  Matched  Intersection  29446.0  ...      Dry   \n",
       "71643  3200519  Matched         Block      NaN  ...      Dry   \n",
       "71644  2895757  Matched         Block      NaN  ...      Dry   \n",
       "71645  2613947  Matched         Block      NaN  ...      NaN   \n",
       "\n",
       "                     LIGHTCOND PEDROWNOTGRNT  SDOTCOLNUM SPEEDING ST_COLCODE  \\\n",
       "0                     Daylight           NaN         NaN      NaN         10   \n",
       "1      Dark - Street Lights On           NaN   6354039.0      NaN         11   \n",
       "2                     Daylight           NaN   4323031.0      NaN         32   \n",
       "3                     Daylight           NaN         NaN      NaN         23   \n",
       "4                     Daylight           NaN   4028032.0      NaN         10   \n",
       "...                        ...           ...         ...      ...        ...   \n",
       "71641  Dark - Street Lights On           NaN   8277040.0      NaN         32   \n",
       "71642                 Daylight             Y   8228025.0      NaN         45   \n",
       "71643                 Daylight           NaN   9154010.0      NaN         20   \n",
       "71644                 Daylight           NaN   8154012.0      NaN         14   \n",
       "71645                      NaN           NaN         NaN      NaN        NaN   \n",
       "\n",
       "                                              ST_COLDESC  SEGLANEKEY  \\\n",
       "0                                      Entering at angle         0.0   \n",
       "1      From same direction - both going straight - bo...         0.0   \n",
       "2                                 One parked--one moving         0.0   \n",
       "3                       From same direction - all others         0.0   \n",
       "4                                      Entering at angle         0.0   \n",
       "...                                                  ...         ...   \n",
       "71641                             One parked--one moving         0.0   \n",
       "71642                             Vehicle - Pedalcyclist      8960.0   \n",
       "71643                    One car leaving parked position         0.0   \n",
       "71644  From same direction - both going straight - on...         0.0   \n",
       "71645                                                NaN         NaN   \n",
       "\n",
       "       CROSSWALKKEY  HITPARKEDCAR  \n",
       "0               0.0             N  \n",
       "1               0.0             N  \n",
       "2               0.0             N  \n",
       "3               0.0             N  \n",
       "4               0.0             N  \n",
       "...             ...           ...  \n",
       "71641           0.0             N  \n",
       "71642           0.0             N  \n",
       "71643           0.0             N  \n",
       "71644           0.0             N  \n",
       "71645           NaN           NaN  \n",
       "\n",
       "[71646 rows x 38 columns]>"
      ]
     },
     "execution_count": 15,
     "metadata": {},
     "output_type": "execute_result"
    }
   ],
   "source": [
    "dc.describe"
   ]
  }
 ],
 "metadata": {
  "kernelspec": {
   "display_name": "Python 3",
   "language": "python",
   "name": "python3"
  },
  "language_info": {
   "codemirror_mode": {
    "name": "ipython",
    "version": 3
   },
   "file_extension": ".py",
   "mimetype": "text/x-python",
   "name": "python",
   "nbconvert_exporter": "python",
   "pygments_lexer": "ipython3",
   "version": "3.7.6"
  }
 },
 "nbformat": 4,
 "nbformat_minor": 2
}
